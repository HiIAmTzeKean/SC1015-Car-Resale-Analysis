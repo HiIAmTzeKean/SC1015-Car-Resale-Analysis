{
 "cells": [
  {
   "cell_type": "markdown",
   "id": "059bc3c7",
   "metadata": {
    "cell_id": "581a1bdb65a841b6812de7b99aca4d1f",
    "deepnote_cell_height": 212,
    "deepnote_cell_type": "markdown",
    "tags": []
   },
   "source": [
    "## Other Variables - General EDA \n",
    "\n",
    "While the other variables aren't directly involved in the problem statement, it is still important to carry out proper EDA to gain insight into how they collectively affect the price of used cars.\n",
    "\n",
    "This generates a SweetViz report of the dataset. While it can do much of the basic EDA for each variable, in particular, it also does a Pearson correlation matrix for the categorical variables, allowing us to understand how much they directly affect the price variable."
   ]
  },
  {
   "cell_type": "code",
   "execution_count": null,
   "id": "02dc6ffa",
   "metadata": {},
   "outputs": [],
   "source": [
    "# importing packages to be used\n",
    "import numpy as np\n",
    "import pandas as pd\n",
    "import seaborn as sb\n",
    "import matplotlib.pyplot as plt\n",
    "import warnings\n",
    "warnings.simplefilter(action='ignore', category=FutureWarning)\n",
    "\n",
    "import sweetviz\n",
    "\n",
    "pd.options.mode.chained_assignment = None"
   ]
  },
  {
   "cell_type": "code",
   "execution_count": 2,
   "id": "7956fb5b",
   "metadata": {},
   "outputs": [
    {
     "data": {
      "text/html": [
       "<div>\n",
       "<style scoped>\n",
       "    .dataframe tbody tr th:only-of-type {\n",
       "        vertical-align: middle;\n",
       "    }\n",
       "\n",
       "    .dataframe tbody tr th {\n",
       "        vertical-align: top;\n",
       "    }\n",
       "\n",
       "    .dataframe thead th {\n",
       "        text-align: right;\n",
       "    }\n",
       "</style>\n",
       "<table border=\"1\" class=\"dataframe\">\n",
       "  <thead>\n",
       "    <tr style=\"text-align: right;\">\n",
       "      <th></th>\n",
       "      <th>id</th>\n",
       "      <th>url</th>\n",
       "      <th>region</th>\n",
       "      <th>region_url</th>\n",
       "      <th>price</th>\n",
       "      <th>year</th>\n",
       "      <th>manufacturer</th>\n",
       "      <th>model</th>\n",
       "      <th>condition</th>\n",
       "      <th>cylinders</th>\n",
       "      <th>...</th>\n",
       "      <th>size</th>\n",
       "      <th>type</th>\n",
       "      <th>paint_color</th>\n",
       "      <th>image_url</th>\n",
       "      <th>description</th>\n",
       "      <th>county</th>\n",
       "      <th>state</th>\n",
       "      <th>lat</th>\n",
       "      <th>long</th>\n",
       "      <th>posting_date</th>\n",
       "    </tr>\n",
       "  </thead>\n",
       "  <tbody>\n",
       "    <tr>\n",
       "      <th>0</th>\n",
       "      <td>7222695916</td>\n",
       "      <td>https://prescott.craigslist.org/cto/d/prescott...</td>\n",
       "      <td>prescott</td>\n",
       "      <td>https://prescott.craigslist.org</td>\n",
       "      <td>6000</td>\n",
       "      <td>NaN</td>\n",
       "      <td>NaN</td>\n",
       "      <td>NaN</td>\n",
       "      <td>NaN</td>\n",
       "      <td>NaN</td>\n",
       "      <td>...</td>\n",
       "      <td>NaN</td>\n",
       "      <td>NaN</td>\n",
       "      <td>NaN</td>\n",
       "      <td>NaN</td>\n",
       "      <td>NaN</td>\n",
       "      <td>NaN</td>\n",
       "      <td>az</td>\n",
       "      <td>NaN</td>\n",
       "      <td>NaN</td>\n",
       "      <td>NaN</td>\n",
       "    </tr>\n",
       "    <tr>\n",
       "      <th>1</th>\n",
       "      <td>7218891961</td>\n",
       "      <td>https://fayar.craigslist.org/ctd/d/bentonville...</td>\n",
       "      <td>fayetteville</td>\n",
       "      <td>https://fayar.craigslist.org</td>\n",
       "      <td>11900</td>\n",
       "      <td>NaN</td>\n",
       "      <td>NaN</td>\n",
       "      <td>NaN</td>\n",
       "      <td>NaN</td>\n",
       "      <td>NaN</td>\n",
       "      <td>...</td>\n",
       "      <td>NaN</td>\n",
       "      <td>NaN</td>\n",
       "      <td>NaN</td>\n",
       "      <td>NaN</td>\n",
       "      <td>NaN</td>\n",
       "      <td>NaN</td>\n",
       "      <td>ar</td>\n",
       "      <td>NaN</td>\n",
       "      <td>NaN</td>\n",
       "      <td>NaN</td>\n",
       "    </tr>\n",
       "    <tr>\n",
       "      <th>2</th>\n",
       "      <td>7221797935</td>\n",
       "      <td>https://keys.craigslist.org/cto/d/summerland-k...</td>\n",
       "      <td>florida keys</td>\n",
       "      <td>https://keys.craigslist.org</td>\n",
       "      <td>21000</td>\n",
       "      <td>NaN</td>\n",
       "      <td>NaN</td>\n",
       "      <td>NaN</td>\n",
       "      <td>NaN</td>\n",
       "      <td>NaN</td>\n",
       "      <td>...</td>\n",
       "      <td>NaN</td>\n",
       "      <td>NaN</td>\n",
       "      <td>NaN</td>\n",
       "      <td>NaN</td>\n",
       "      <td>NaN</td>\n",
       "      <td>NaN</td>\n",
       "      <td>fl</td>\n",
       "      <td>NaN</td>\n",
       "      <td>NaN</td>\n",
       "      <td>NaN</td>\n",
       "    </tr>\n",
       "    <tr>\n",
       "      <th>3</th>\n",
       "      <td>7222270760</td>\n",
       "      <td>https://worcester.craigslist.org/cto/d/west-br...</td>\n",
       "      <td>worcester / central MA</td>\n",
       "      <td>https://worcester.craigslist.org</td>\n",
       "      <td>1500</td>\n",
       "      <td>NaN</td>\n",
       "      <td>NaN</td>\n",
       "      <td>NaN</td>\n",
       "      <td>NaN</td>\n",
       "      <td>NaN</td>\n",
       "      <td>...</td>\n",
       "      <td>NaN</td>\n",
       "      <td>NaN</td>\n",
       "      <td>NaN</td>\n",
       "      <td>NaN</td>\n",
       "      <td>NaN</td>\n",
       "      <td>NaN</td>\n",
       "      <td>ma</td>\n",
       "      <td>NaN</td>\n",
       "      <td>NaN</td>\n",
       "      <td>NaN</td>\n",
       "    </tr>\n",
       "    <tr>\n",
       "      <th>4</th>\n",
       "      <td>7210384030</td>\n",
       "      <td>https://greensboro.craigslist.org/cto/d/trinit...</td>\n",
       "      <td>greensboro</td>\n",
       "      <td>https://greensboro.craigslist.org</td>\n",
       "      <td>4900</td>\n",
       "      <td>NaN</td>\n",
       "      <td>NaN</td>\n",
       "      <td>NaN</td>\n",
       "      <td>NaN</td>\n",
       "      <td>NaN</td>\n",
       "      <td>...</td>\n",
       "      <td>NaN</td>\n",
       "      <td>NaN</td>\n",
       "      <td>NaN</td>\n",
       "      <td>NaN</td>\n",
       "      <td>NaN</td>\n",
       "      <td>NaN</td>\n",
       "      <td>nc</td>\n",
       "      <td>NaN</td>\n",
       "      <td>NaN</td>\n",
       "      <td>NaN</td>\n",
       "    </tr>\n",
       "  </tbody>\n",
       "</table>\n",
       "<p>5 rows × 26 columns</p>\n",
       "</div>"
      ],
      "text/plain": [
       "           id                                                url  \\\n",
       "0  7222695916  https://prescott.craigslist.org/cto/d/prescott...   \n",
       "1  7218891961  https://fayar.craigslist.org/ctd/d/bentonville...   \n",
       "2  7221797935  https://keys.craigslist.org/cto/d/summerland-k...   \n",
       "3  7222270760  https://worcester.craigslist.org/cto/d/west-br...   \n",
       "4  7210384030  https://greensboro.craigslist.org/cto/d/trinit...   \n",
       "\n",
       "                   region                         region_url  price  year  \\\n",
       "0                prescott    https://prescott.craigslist.org   6000   NaN   \n",
       "1            fayetteville       https://fayar.craigslist.org  11900   NaN   \n",
       "2            florida keys        https://keys.craigslist.org  21000   NaN   \n",
       "3  worcester / central MA   https://worcester.craigslist.org   1500   NaN   \n",
       "4              greensboro  https://greensboro.craigslist.org   4900   NaN   \n",
       "\n",
       "  manufacturer model condition cylinders  ... size  type paint_color  \\\n",
       "0          NaN   NaN       NaN       NaN  ...  NaN   NaN         NaN   \n",
       "1          NaN   NaN       NaN       NaN  ...  NaN   NaN         NaN   \n",
       "2          NaN   NaN       NaN       NaN  ...  NaN   NaN         NaN   \n",
       "3          NaN   NaN       NaN       NaN  ...  NaN   NaN         NaN   \n",
       "4          NaN   NaN       NaN       NaN  ...  NaN   NaN         NaN   \n",
       "\n",
       "  image_url description county state lat long posting_date  \n",
       "0       NaN         NaN    NaN    az NaN  NaN          NaN  \n",
       "1       NaN         NaN    NaN    ar NaN  NaN          NaN  \n",
       "2       NaN         NaN    NaN    fl NaN  NaN          NaN  \n",
       "3       NaN         NaN    NaN    ma NaN  NaN          NaN  \n",
       "4       NaN         NaN    NaN    nc NaN  NaN          NaN  \n",
       "\n",
       "[5 rows x 26 columns]"
      ]
     },
     "execution_count": 2,
     "metadata": {},
     "output_type": "execute_result"
    }
   ],
   "source": [
    "# If you have not downloaded the dataset, you can unzip the vehicle.zip file to obtain the csv\n",
    "# or you can download version 10 of the dataset from\n",
    "# https://www.kaggle.com/austinreese/craigslist-carstrucks-data\n",
    "\n",
    "import zipfile\n",
    "# Here we use the python package to open the zip file such that there is no need to unzip it\n",
    "with zipfile.ZipFile(\"craigslist-carstrucks-data/vehicles.zip\") as z:\n",
    "   with z.open(\"vehicles.csv\") as f:\n",
    "      carData = pd.read_csv(f)\n",
    "carData.head()"
   ]
  },
  {
   "cell_type": "code",
   "execution_count": null,
   "id": "cf7c45fd",
   "metadata": {
    "cell_id": "00010-ff92c9a2-7415-4b17-8928-f0e3f459887c",
    "deepnote_cell_height": 240.8333282470703,
    "deepnote_cell_type": "code",
    "deepnote_to_be_reexecuted": false,
    "execution_millis": 817,
    "execution_start": 1650195747441,
    "source_hash": "eca82443"
   },
   "outputs": [
    {
     "name": "stderr",
     "output_type": "stream",
     "text": [
      "[Step 2/3] Processing Pairwise Features      |██████████████████████                   | [ 54%]   00:48 -> (01:00 left)"
     ]
    }
   ],
   "source": [
    "# Please refer to the HTML report under the EDA folder\n",
    "\n",
    "report = sweetviz.analyze(carData, target_feat=\"price\")  \n",
    "report.show_html('EDA/report.html')"
   ]
  },
  {
   "cell_type": "markdown",
   "id": "a9c5d04c",
   "metadata": {
    "cell_id": "f8b165bad7404736871c254cd38da3d2",
    "deepnote_cell_type": "text-cell-p",
    "is_collapsed": false,
    "tags": []
   },
   "source": [
    "The following code blocks prints a bar graph representing the number of times each unique value appears for each variable. "
   ]
  },
  {
   "cell_type": "code",
   "execution_count": null,
   "id": "e5e8b769",
   "metadata": {
    "cell_id": "00011-cd02d9ba-f651-4fae-8cea-602a977e0a93",
    "deepnote_cell_height": 153,
    "deepnote_cell_type": "code",
    "deepnote_to_be_reexecuted": true,
    "execution_millis": 1,
    "execution_start": 1649779215087,
    "source_hash": "30a2e101"
   },
   "outputs": [],
   "source": [
    "def unique_counts_graph (dataset, variable):\n",
    "    #prints a bar graph representing the number of value_counts for each value of a variable\n",
    "    plt.figure(figsize=(18,10))\n",
    "    ax = dataset[variable].value_counts().plot(kind='bar')\n",
    "    ax.set_title(\"Number of unique values of '{}'\".format(variable))"
   ]
  },
  {
   "cell_type": "code",
   "execution_count": null,
   "id": "e171c03a",
   "metadata": {
    "cell_id": "00012-694599ff-78f7-459f-81c3-51f4275dd1e3",
    "deepnote_cell_height": 4943,
    "deepnote_cell_type": "code",
    "deepnote_output_heights": [
     505,
     516,
     500,
     507,
     513,
     519,
     508,
     491,
     503
    ],
    "deepnote_to_be_reexecuted": true,
    "execution_millis": 3455,
    "execution_start": 1649779215141,
    "source_hash": "a9aeb8c9",
    "tags": []
   },
   "outputs": [],
   "source": [
    "variable_list = [\"condition\", \"cylinders\", \"fuel\", \"title_status\", \"type\", \"size\", \"transmission\", \"drive\", \"paint_color\"]\n",
    "for i in range(len(variable_list)):\n",
    "    unique_counts_graph(carData, variable_list[i])"
   ]
  },
  {
   "cell_type": "markdown",
   "id": "a99655e4",
   "metadata": {
    "cell_id": "af0e08e46dc249398c04852697d20fe4",
    "deepnote_cell_type": "text-cell-p",
    "is_collapsed": false,
    "tags": []
   },
   "source": [
    "The following code block generates box plots for different variables, showing the price distribution for each unqiue value. Only variables with a limited number of unique values have been chosen to create a graph that is readable and provides usefulness. "
   ]
  },
  {
   "cell_type": "code",
   "execution_count": null,
   "id": "31a9ab10",
   "metadata": {
    "cell_id": "00013-45f9d3f0-fcab-4a13-aa5c-91c9ab73594d",
    "deepnote_cell_height": 261,
    "deepnote_cell_type": "code",
    "deepnote_to_be_reexecuted": true,
    "execution_millis": 0,
    "execution_start": 1649779218631,
    "source_hash": "9738b28a"
   },
   "outputs": [],
   "source": [
    "def box_plot_generation (dataset, variable):\n",
    "    df = dataset[['price', variable]]\n",
    "    df[variable] = df[variable].astype('category')\n",
    "    priceq1 = df.quantile(q=0.25)[0]\n",
    "    priceq3 = df.quantile(q=0.75)[0]\n",
    "    iqf = priceq3-priceq1\n",
    "    upperlimit = priceq3 + 1.5*iqf\n",
    "    lowerlimit = priceq1 - 1.5*iqf\n",
    "    f = plt.figure(figsize=(16, 8))\n",
    "    f = sb.boxplot(x = variable, y = 'price', data = df)\n",
    "    f.set_ylim(0, upperlimit*3)"
   ]
  },
  {
   "cell_type": "code",
   "execution_count": null,
   "id": "6dcedbe6",
   "metadata": {
    "cell_id": "00014-4c7ae9b3-7a55-4f47-b0d6-8cd88c3f37a8",
    "deepnote_cell_height": 2898,
    "deepnote_cell_type": "code",
    "deepnote_output_heights": [
     435,
     435,
     435,
     435,
     435,
     435
    ],
    "deepnote_to_be_reexecuted": true,
    "execution_millis": 2434,
    "execution_start": 1649779218632,
    "source_hash": "fc1637f9",
    "tags": []
   },
   "outputs": [],
   "source": [
    "variable_list = [\"condition\", \"cylinders\", \"fuel\", \"size\", \"transmission\", \"drive\"]\n",
    "for i in range(len(variable_list)):\n",
    "    box_plot_generation(carData, variable_list[i])"
   ]
  },
  {
   "cell_type": "markdown",
   "id": "4815a7af",
   "metadata": {
    "cell_id": "f2ff0909a2ad4ce28e88879f2112e311",
    "deepnote_cell_height": 189.60000610351562,
    "deepnote_cell_type": "markdown",
    "tags": []
   },
   "source": [
    "## Dropping Variables\n",
    "\n",
    "For a multitude of reasons, several variables will have to be dropped. This section aims to justify why we have dropped several variables.\n",
    "\n",
    "By doing a correlation matrix of the listings of several manufacturers, one can see that the latitude and longitude of the car listings have almost no correlation with price whatsoever. We have thus decided to drop it."
   ]
  },
  {
   "cell_type": "code",
   "execution_count": null,
   "id": "f767bfbe",
   "metadata": {
    "cell_id": "00015-f95edd86-136c-40e7-a746-45df24d9a99c",
    "deepnote_cell_height": 906,
    "deepnote_cell_type": "code",
    "deepnote_output_heights": [
     611
    ],
    "deepnote_to_be_reexecuted": true,
    "execution_millis": 3827,
    "execution_start": 1649779221079,
    "source_hash": "94dada24",
    "tags": []
   },
   "outputs": [],
   "source": [
    "manufacturer_list = ['ford', 'chevrolet', 'toyota', 'honda', 'nissan', 'jeep']\n",
    "fig, ax = plt.subplots(ncols=3, nrows=2, figsize=(24,20))\n",
    "counter = 0\n",
    "for i in range(len(manufacturer_list)):\n",
    "    x = manufacturer_list[i]\n",
    "    y = carData[carData['manufacturer'] == x]\n",
    "    numeric_cols = [column for column in y.columns if y[column].dtype != 'object']\n",
    "    y = y[numeric_cols]\n",
    "    sb.heatmap(y.corr(), vmin=-1, vmax=1, annot=True,fmt=\".2f\", ax=ax[counter][i%3])\n",
    "    ax[counter][i%3].title.set_text(x)\n",
    "    if i == 2:\n",
    "        counter += 1"
   ]
  },
  {
   "cell_type": "markdown",
   "id": "a7d1a1db",
   "metadata": {
    "cell_id": "7d4d35ad51da4693b48b52287be4dc53",
    "deepnote_cell_type": "text-cell-p",
    "is_collapsed": false,
    "tags": []
   },
   "source": [
    "We have also decided to drop cylinders. This is because a significant portion of the dataset contains \"other\", which is hard to replace, as there exist electric car listings which do not have cylinders, as well as normal cars which have more than 12 cylinders. We cannot just lump normal cars with electric cars as this will distort the data."
   ]
  },
  {
   "cell_type": "code",
   "execution_count": null,
   "id": "15ee8bfd",
   "metadata": {
    "cell_id": "00016-340aaaeb-1204-4076-a488-717dc259f731",
    "deepnote_cell_height": 272,
    "deepnote_cell_type": "code",
    "deepnote_output_heights": [
     175
    ],
    "deepnote_to_be_reexecuted": true,
    "execution_millis": 363,
    "execution_start": 1649779224544,
    "source_hash": "3c8c0a58"
   },
   "outputs": [],
   "source": [
    "carData[\"cylinders\"].value_counts()"
   ]
  },
  {
   "cell_type": "markdown",
   "id": "0ecd4420",
   "metadata": {
    "cell_id": "ac750da87c1c4db994044c90cc776961",
    "deepnote_cell_type": "text-cell-p",
    "is_collapsed": false,
    "tags": []
   },
   "source": [
    "The same can be said for car type. Unfortunately, a large portion of the values are \"other\", and there is no easy way to clean this data up without making sweeping generalizations or manually checking each model. "
   ]
  },
  {
   "cell_type": "code",
   "execution_count": null,
   "id": "91a21517",
   "metadata": {
    "cell_id": "00017-ff01bc59-664e-4c05-85ff-0ffa63c4c456",
    "deepnote_cell_height": 368,
    "deepnote_cell_type": "code",
    "deepnote_output_heights": [
     271
    ],
    "deepnote_to_be_reexecuted": true,
    "execution_millis": 326,
    "execution_start": 1649779224585,
    "source_hash": "80d10b3e"
   },
   "outputs": [],
   "source": [
    "carData[\"type\"].value_counts()"
   ]
  },
  {
   "cell_type": "markdown",
   "id": "4b5c2faa",
   "metadata": {
    "cell_id": "c809a511f6634d93bb976bd376dea448",
    "deepnote_cell_type": "text-cell-p",
    "is_collapsed": false,
    "tags": []
   },
   "source": [
    "There are simply too many models to do anything useful with it. "
   ]
  },
  {
   "cell_type": "code",
   "execution_count": null,
   "id": "ffe2a979",
   "metadata": {
    "cell_id": "2b114a55654a4f13bcdc2cc60d619520",
    "deepnote_cell_height": 118,
    "deepnote_cell_type": "code",
    "deepnote_output_heights": [
     21
    ],
    "deepnote_to_be_reexecuted": false,
    "execution_millis": 9,
    "execution_start": 1650196768977,
    "source_hash": "7c005661",
    "tags": []
   },
   "outputs": [],
   "source": [
    "len(carData[\"model\"].value_counts())"
   ]
  },
  {
   "cell_type": "markdown",
   "id": "a523b0db",
   "metadata": {
    "cell_id": "f8173f4f84714e7dace06f603bb503d1",
    "deepnote_cell_type": "text-cell-p",
    "is_collapsed": false,
    "owner_user_id": "45562265-3971-487d-9de5-32bcc92e3cd7",
    "tags": []
   },
   "source": [
    "It is hard to carry out any meaningful analysis on the paint_color with such general colors given. "
   ]
  },
  {
   "cell_type": "code",
   "execution_count": null,
   "id": "8308d5e6",
   "metadata": {
    "cell_id": "2a0d4b99eab6454e803994217df64b8c",
    "deepnote_cell_height": 66.26666259765625,
    "deepnote_cell_type": "code",
    "tags": []
   },
   "outputs": [],
   "source": [
    "carData[\"paint_color\"].value_counts()"
   ]
  },
  {
   "cell_type": "markdown",
   "id": "36642de2",
   "metadata": {
    "cell_id": "00042-a8cacbd5-7118-48da-aaa9-31e3620f71cf",
    "deepnote_cell_height": 381.1000061035156,
    "deepnote_cell_type": "markdown"
   },
   "source": [
    "# End of EDA\n",
    "This marks the end of this notebook.\n",
    "\n",
    "To conlude, we did\n",
    "\n",
    "- Feature exploration with this notebook\n",
    "- Justified why we wanted to drop some variables\n",
    "- Justified why certain variables are worth exploring\n",
    "\n",
    "Learning points\n",
    "\n",
    "- using python packages such as sweetviz to generate reports\n",
    "- variety of ways we can display and analyse the same information\n",
    "\n",
    "In the next notebook we will perform data cleaning with the results and insights we have gotten"
   ]
  }
 ],
 "metadata": {
  "deepnote": {},
  "deepnote_execution_queue": [],
  "deepnote_notebook_id": "cf5e0568-d7f4-49f6-b617-7465dff73dae",
  "kernelspec": {
   "display_name": "Python 3 (ipykernel)",
   "language": "python",
   "name": "python3"
  },
  "language_info": {
   "codemirror_mode": {
    "name": "ipython",
    "version": 3
   },
   "file_extension": ".py",
   "mimetype": "text/x-python",
   "name": "python",
   "nbconvert_exporter": "python",
   "pygments_lexer": "ipython3",
   "version": "3.10.4"
  }
 },
 "nbformat": 4,
 "nbformat_minor": 5
}
